{
 "cells": [
  {
   "cell_type": "code",
   "execution_count": null,
   "id": "fa6060d7-832e-4537-84d8-c2c98ff631e4",
   "metadata": {},
   "outputs": [],
   "source": [
    "# 我們只透過前1000筆資料做地理性資料分析\n",
    "import pandas as pd\n",
    "import matplotlib.pyplot as plt\n",
    "import numpy as np\n",
    "import matplotlib.font_manager as fm\n",
    "font_path = './font.ttf'\n",
    "font = fm.FontProperties(fname=font_path)\n",
    "qa10 = pd.read_csv(\"./QA_TGDS_JOB_23_10.csv\")"
   ]
  }
 ],
 "metadata": {
  "kernelspec": {
   "display_name": "Python 3 (ipykernel)",
   "language": "python",
   "name": "python3"
  },
  "language_info": {
   "codemirror_mode": {
    "name": "ipython",
    "version": 3
   },
   "file_extension": ".py",
   "mimetype": "text/x-python",
   "name": "python",
   "nbconvert_exporter": "python",
   "pygments_lexer": "ipython3",
   "version": "3.10.13"
  }
 },
 "nbformat": 4,
 "nbformat_minor": 5
}
