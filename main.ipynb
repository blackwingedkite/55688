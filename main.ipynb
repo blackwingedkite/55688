{
 "cells": [
  {
   "cell_type": "code",
   "execution_count": 1,
   "id": "9631f9ee-a0ef-466b-b853-de922673b81c",
   "metadata": {
    "scrolled": true
   },
   "outputs": [
    {
     "name": "stdout",
     "output_type": "stream",
     "text": [
      "(1881975, 19)\n"
     ]
    }
   ],
   "source": [
    "import pandas as pd\n",
    "import matplotlib.pyplot as plt\n",
    "import numpy as np\n",
    "import matplotlib.font_manager as fm\n",
    "font_path = './font.ttf'  # 請替換成您自己的中文字型路徑\n",
    "font = fm.FontProperties(fname=font_path)\n",
    "qa10 = pd.read_csv(\"./QA_TGDS_JOB_23_10.csv\")\n",
    "print(qa10.shape)\n",
    "# 不重複的使用人數：412001人(10月)，平均一個用戶一個月用四次，好多喔\n",
    "# [676096 rows x 1 columns] for 4 months"
   ]
  },
  {
   "cell_type": "code",
   "execution_count": 33,
   "id": "9c3f5871-9735-43fa-9a30-1b1c236df9ef",
   "metadata": {},
   "outputs": [
    {
     "name": "stdout",
     "output_type": "stream",
     "text": [
      "第 201 列的距離為 0.62 公里。\n",
      "第 5201 列的距離為 0.70 公里。\n",
      "第 10201 列的距離為 8.32 公里。\n",
      "第 15201 列的距離為 1.59 公里。\n",
      "第 20201 列的距離為 4.84 公里。\n",
      "第 25201 列的距離為 0.02 公里。\n",
      "第 30201 列的距離為 5.79 公里。\n",
      "第 35201 列的距離為 7.88 公里。\n",
      "第 40201 列的距離為 5.14 公里。\n",
      "第 45201 列的距離為 5.63 公里。\n",
      "第 50201 列的距離為 2.39 公里。\n",
      "第 55201 列的距離為 0.51 公里。\n",
      "第 60201 列的距離為 7.71 公里。\n",
      "第 65201 列的距離為 2.10 公里。\n",
      "第 70201 列的距離為 5.54 公里。\n",
      "第 75201 列的距離為 1.62 公里。\n",
      "第 80201 列的距離為 3.09 公里。\n",
      "第 85201 列的距離為 1.47 公里。\n",
      "第 90201 列的距離為 1.76 公里。\n",
      "第 95201 列的距離為 5.77 公里。\n",
      "第 100201 列的距離為 4.02 公里。\n",
      "第 105201 列的距離為 0.90 公里。\n",
      "第 110201 列的距離為 23.03 公里。\n",
      "第 115201 列的距離為 4.66 公里。\n",
      "第 120201 列的距離為 2.14 公里。\n",
      "第 125201 列的距離為 16.65 公里。\n",
      "第 130201 列的距離為 7.37 公里。\n",
      "第 135201 列的距離為 2.98 公里。\n",
      "第 140201 列的距離為 6.11 公里。\n",
      "第 145201 列的距離為 4.76 公里。\n"
     ]
    },
    {
     "ename": "KeyboardInterrupt",
     "evalue": "",
     "output_type": "error",
     "traceback": [
      "\u001b[1;31m---------------------------------------------------------------------------\u001b[0m",
      "\u001b[1;31mKeyboardInterrupt\u001b[0m                         Traceback (most recent call last)",
      "Cell \u001b[1;32mIn[33], line 10\u001b[0m\n\u001b[0;32m      8\u001b[0m coords_1 \u001b[38;5;241m=\u001b[39m (qa10\u001b[38;5;241m.\u001b[39miloc[i][\u001b[38;5;124m'\u001b[39m\u001b[38;5;124mOn_Lat_Y\u001b[39m\u001b[38;5;124m'\u001b[39m], qa10\u001b[38;5;241m.\u001b[39miloc[i][\u001b[38;5;124m'\u001b[39m\u001b[38;5;124mOn_Lng_X\u001b[39m\u001b[38;5;124m'\u001b[39m])\n\u001b[0;32m      9\u001b[0m coords_2 \u001b[38;5;241m=\u001b[39m (qa10\u001b[38;5;241m.\u001b[39miloc[i][\u001b[38;5;124m'\u001b[39m\u001b[38;5;124mOff_Lat_Y\u001b[39m\u001b[38;5;124m'\u001b[39m], qa10\u001b[38;5;241m.\u001b[39miloc[i][\u001b[38;5;124m'\u001b[39m\u001b[38;5;124mOff_Lng_X\u001b[39m\u001b[38;5;124m'\u001b[39m])\n\u001b[1;32m---> 10\u001b[0m distance \u001b[38;5;241m=\u001b[39m \u001b[43mgeodesic\u001b[49m\u001b[43m(\u001b[49m\u001b[43mcoords_1\u001b[49m\u001b[43m,\u001b[49m\u001b[43m \u001b[49m\u001b[43mcoords_2\u001b[49m\u001b[43m)\u001b[49m\u001b[38;5;241m.\u001b[39mkilometers\n\u001b[0;32m     11\u001b[0m qa10\u001b[38;5;241m.\u001b[39mat[i, \u001b[38;5;124m'\u001b[39m\u001b[38;5;124mDistance_km\u001b[39m\u001b[38;5;124m'\u001b[39m] \u001b[38;5;241m=\u001b[39m distance\n\u001b[0;32m     12\u001b[0m \u001b[38;5;28;01mif\u001b[39;00m i\u001b[38;5;241m%\u001b[39m\u001b[38;5;241m5000\u001b[39m \u001b[38;5;241m==\u001b[39m \u001b[38;5;241m200\u001b[39m:\n",
      "File \u001b[1;32m~\\AppData\\Roaming\\Python\\Python310\\site-packages\\geopy\\distance.py:540\u001b[0m, in \u001b[0;36mgeodesic.__init__\u001b[1;34m(self, *args, **kwargs)\u001b[0m\n\u001b[0;32m    538\u001b[0m \u001b[38;5;28mself\u001b[39m\u001b[38;5;241m.\u001b[39mset_ellipsoid(kwargs\u001b[38;5;241m.\u001b[39mpop(\u001b[38;5;124m'\u001b[39m\u001b[38;5;124mellipsoid\u001b[39m\u001b[38;5;124m'\u001b[39m, \u001b[38;5;124m'\u001b[39m\u001b[38;5;124mWGS-84\u001b[39m\u001b[38;5;124m'\u001b[39m))\n\u001b[0;32m    539\u001b[0m major, minor, f \u001b[38;5;241m=\u001b[39m \u001b[38;5;28mself\u001b[39m\u001b[38;5;241m.\u001b[39mELLIPSOID\n\u001b[1;32m--> 540\u001b[0m \u001b[38;5;28msuper\u001b[39m()\u001b[38;5;241m.\u001b[39m\u001b[38;5;21m__init__\u001b[39m(\u001b[38;5;241m*\u001b[39margs, \u001b[38;5;241m*\u001b[39m\u001b[38;5;241m*\u001b[39mkwargs)\n",
      "File \u001b[1;32m~\\AppData\\Roaming\\Python\\Python310\\site-packages\\geopy\\distance.py:276\u001b[0m, in \u001b[0;36mDistance.__init__\u001b[1;34m(self, *args, **kwargs)\u001b[0m\n\u001b[0;32m    274\u001b[0m \u001b[38;5;28;01melif\u001b[39;00m \u001b[38;5;28mlen\u001b[39m(args) \u001b[38;5;241m>\u001b[39m \u001b[38;5;241m1\u001b[39m:\n\u001b[0;32m    275\u001b[0m     \u001b[38;5;28;01mfor\u001b[39;00m a, b \u001b[38;5;129;01min\u001b[39;00m util\u001b[38;5;241m.\u001b[39mpairwise(args):\n\u001b[1;32m--> 276\u001b[0m         kilometers \u001b[38;5;241m+\u001b[39m\u001b[38;5;241m=\u001b[39m \u001b[38;5;28;43mself\u001b[39;49m\u001b[38;5;241;43m.\u001b[39;49m\u001b[43mmeasure\u001b[49m\u001b[43m(\u001b[49m\u001b[43ma\u001b[49m\u001b[43m,\u001b[49m\u001b[43m \u001b[49m\u001b[43mb\u001b[49m\u001b[43m)\u001b[49m\n\u001b[0;32m    278\u001b[0m kilometers \u001b[38;5;241m+\u001b[39m\u001b[38;5;241m=\u001b[39m units\u001b[38;5;241m.\u001b[39mkilometers(\u001b[38;5;241m*\u001b[39m\u001b[38;5;241m*\u001b[39mkwargs)\n\u001b[0;32m    279\u001b[0m \u001b[38;5;28mself\u001b[39m\u001b[38;5;241m.\u001b[39m__kilometers \u001b[38;5;241m=\u001b[39m kilometers\n",
      "File \u001b[1;32m~\\AppData\\Roaming\\Python\\Python310\\site-packages\\geopy\\distance.py:566\u001b[0m, in \u001b[0;36mgeodesic.measure\u001b[1;34m(self, a, b)\u001b[0m\n\u001b[0;32m    561\u001b[0m \u001b[38;5;28;01mif\u001b[39;00m \u001b[38;5;129;01mnot\u001b[39;00m (\u001b[38;5;28misinstance\u001b[39m(\u001b[38;5;28mself\u001b[39m\u001b[38;5;241m.\u001b[39mgeod, Geodesic) \u001b[38;5;129;01mand\u001b[39;00m\n\u001b[0;32m    562\u001b[0m         \u001b[38;5;28mself\u001b[39m\u001b[38;5;241m.\u001b[39mgeod\u001b[38;5;241m.\u001b[39ma \u001b[38;5;241m==\u001b[39m \u001b[38;5;28mself\u001b[39m\u001b[38;5;241m.\u001b[39mELLIPSOID[\u001b[38;5;241m0\u001b[39m] \u001b[38;5;129;01mand\u001b[39;00m\n\u001b[0;32m    563\u001b[0m         \u001b[38;5;28mself\u001b[39m\u001b[38;5;241m.\u001b[39mgeod\u001b[38;5;241m.\u001b[39mf \u001b[38;5;241m==\u001b[39m \u001b[38;5;28mself\u001b[39m\u001b[38;5;241m.\u001b[39mELLIPSOID[\u001b[38;5;241m2\u001b[39m]):\n\u001b[0;32m    564\u001b[0m     \u001b[38;5;28mself\u001b[39m\u001b[38;5;241m.\u001b[39mgeod \u001b[38;5;241m=\u001b[39m Geodesic(\u001b[38;5;28mself\u001b[39m\u001b[38;5;241m.\u001b[39mELLIPSOID[\u001b[38;5;241m0\u001b[39m], \u001b[38;5;28mself\u001b[39m\u001b[38;5;241m.\u001b[39mELLIPSOID[\u001b[38;5;241m2\u001b[39m])\n\u001b[1;32m--> 566\u001b[0m s12 \u001b[38;5;241m=\u001b[39m \u001b[38;5;28;43mself\u001b[39;49m\u001b[38;5;241;43m.\u001b[39;49m\u001b[43mgeod\u001b[49m\u001b[38;5;241;43m.\u001b[39;49m\u001b[43mInverse\u001b[49m\u001b[43m(\u001b[49m\u001b[43mlat1\u001b[49m\u001b[43m,\u001b[49m\u001b[43m \u001b[49m\u001b[43mlon1\u001b[49m\u001b[43m,\u001b[49m\u001b[43m \u001b[49m\u001b[43mlat2\u001b[49m\u001b[43m,\u001b[49m\u001b[43m \u001b[49m\u001b[43mlon2\u001b[49m\u001b[43m,\u001b[49m\n\u001b[0;32m    567\u001b[0m \u001b[43m                        \u001b[49m\u001b[43mGeodesic\u001b[49m\u001b[38;5;241;43m.\u001b[39;49m\u001b[43mDISTANCE\u001b[49m\u001b[43m)\u001b[49m[\u001b[38;5;124m'\u001b[39m\u001b[38;5;124ms12\u001b[39m\u001b[38;5;124m'\u001b[39m]\n\u001b[0;32m    569\u001b[0m \u001b[38;5;28;01mreturn\u001b[39;00m s12\n",
      "File \u001b[1;32m~\\AppData\\Roaming\\Python\\Python310\\site-packages\\geographiclib\\geodesic.py:1030\u001b[0m, in \u001b[0;36mGeodesic.Inverse\u001b[1;34m(self, lat1, lon1, lat2, lon2, outmask)\u001b[0m\n\u001b[0;32m   1012\u001b[0m \u001b[38;5;28;01mdef\u001b[39;00m \u001b[38;5;21mInverse\u001b[39m(\u001b[38;5;28mself\u001b[39m, lat1, lon1, lat2, lon2,\n\u001b[0;32m   1013\u001b[0m             outmask \u001b[38;5;241m=\u001b[39m GeodesicCapability\u001b[38;5;241m.\u001b[39mSTANDARD):\n\u001b[0;32m   1014\u001b[0m \u001b[38;5;250m  \u001b[39m\u001b[38;5;124;03m\"\"\"Solve the inverse geodesic problem\u001b[39;00m\n\u001b[0;32m   1015\u001b[0m \n\u001b[0;32m   1016\u001b[0m \u001b[38;5;124;03m  :param lat1: latitude of the first point in degrees\u001b[39;00m\n\u001b[1;32m   (...)\u001b[0m\n\u001b[0;32m   1027\u001b[0m \n\u001b[0;32m   1028\u001b[0m \u001b[38;5;124;03m  \"\"\"\u001b[39;00m\n\u001b[1;32m-> 1030\u001b[0m   a12, s12, salp1,calp1, salp2,calp2, m12, M12, M21, S12 \u001b[38;5;241m=\u001b[39m \u001b[38;5;28;43mself\u001b[39;49m\u001b[38;5;241;43m.\u001b[39;49m\u001b[43m_GenInverse\u001b[49m\u001b[43m(\u001b[49m\n\u001b[0;32m   1031\u001b[0m \u001b[43m    \u001b[49m\u001b[43mlat1\u001b[49m\u001b[43m,\u001b[49m\u001b[43m \u001b[49m\u001b[43mlon1\u001b[49m\u001b[43m,\u001b[49m\u001b[43m \u001b[49m\u001b[43mlat2\u001b[49m\u001b[43m,\u001b[49m\u001b[43m \u001b[49m\u001b[43mlon2\u001b[49m\u001b[43m,\u001b[49m\u001b[43m \u001b[49m\u001b[43moutmask\u001b[49m\u001b[43m)\u001b[49m\n\u001b[0;32m   1032\u001b[0m   outmask \u001b[38;5;241m&\u001b[39m\u001b[38;5;241m=\u001b[39m Geodesic\u001b[38;5;241m.\u001b[39mOUT_MASK\n\u001b[0;32m   1033\u001b[0m   \u001b[38;5;28;01mif\u001b[39;00m outmask \u001b[38;5;241m&\u001b[39m Geodesic\u001b[38;5;241m.\u001b[39mLONG_UNROLL:\n",
      "File \u001b[1;32m~\\AppData\\Roaming\\Python\\Python310\\site-packages\\geographiclib\\geodesic.py:876\u001b[0m, in \u001b[0;36mGeodesic._GenInverse\u001b[1;34m(self, lat1, lon1, lat2, lon2, outmask)\u001b[0m\n\u001b[0;32m    870\u001b[0m salp1b \u001b[38;5;241m=\u001b[39m Geodesic\u001b[38;5;241m.\u001b[39mtiny_; calp1b \u001b[38;5;241m=\u001b[39m \u001b[38;5;241m-\u001b[39m\u001b[38;5;241m1.0\u001b[39m\n\u001b[0;32m    872\u001b[0m \u001b[38;5;28;01mwhile\u001b[39;00m numit \u001b[38;5;241m<\u001b[39m Geodesic\u001b[38;5;241m.\u001b[39mmaxit2_:\n\u001b[0;32m    873\u001b[0m   \u001b[38;5;66;03m# the WGS84 test set: mean = 1.47, sd = 1.25, max = 16\u001b[39;00m\n\u001b[0;32m    874\u001b[0m   \u001b[38;5;66;03m# WGS84 and random input: mean = 2.85, sd = 0.60\u001b[39;00m\n\u001b[0;32m    875\u001b[0m   (v, salp2, calp2, sig12, ssig1, csig1, ssig2, csig2,\n\u001b[1;32m--> 876\u001b[0m    eps, domg12, dv) \u001b[38;5;241m=\u001b[39m \u001b[38;5;28;43mself\u001b[39;49m\u001b[38;5;241;43m.\u001b[39;49m\u001b[43m_Lambda12\u001b[49m\u001b[43m(\u001b[49m\n\u001b[0;32m    877\u001b[0m \u001b[43m     \u001b[49m\u001b[43msbet1\u001b[49m\u001b[43m,\u001b[49m\u001b[43m \u001b[49m\u001b[43mcbet1\u001b[49m\u001b[43m,\u001b[49m\u001b[43m \u001b[49m\u001b[43mdn1\u001b[49m\u001b[43m,\u001b[49m\u001b[43m \u001b[49m\u001b[43msbet2\u001b[49m\u001b[43m,\u001b[49m\u001b[43m \u001b[49m\u001b[43mcbet2\u001b[49m\u001b[43m,\u001b[49m\u001b[43m \u001b[49m\u001b[43mdn2\u001b[49m\u001b[43m,\u001b[49m\n\u001b[0;32m    878\u001b[0m \u001b[43m     \u001b[49m\u001b[43msalp1\u001b[49m\u001b[43m,\u001b[49m\u001b[43m \u001b[49m\u001b[43mcalp1\u001b[49m\u001b[43m,\u001b[49m\u001b[43m \u001b[49m\u001b[43mslam12\u001b[49m\u001b[43m,\u001b[49m\u001b[43m \u001b[49m\u001b[43mclam12\u001b[49m\u001b[43m,\u001b[49m\u001b[43m \u001b[49m\u001b[43mnumit\u001b[49m\u001b[43m \u001b[49m\u001b[38;5;241;43m<\u001b[39;49m\u001b[43m \u001b[49m\u001b[43mGeodesic\u001b[49m\u001b[38;5;241;43m.\u001b[39;49m\u001b[43mmaxit1_\u001b[49m\u001b[43m,\u001b[49m\n\u001b[0;32m    879\u001b[0m \u001b[43m     \u001b[49m\u001b[43mC1a\u001b[49m\u001b[43m,\u001b[49m\u001b[43m \u001b[49m\u001b[43mC2a\u001b[49m\u001b[43m,\u001b[49m\u001b[43m \u001b[49m\u001b[43mC3a\u001b[49m\u001b[43m)\u001b[49m\n\u001b[0;32m    880\u001b[0m   \u001b[38;5;66;03m# Reversed test to allow escape with NaNs\u001b[39;00m\n\u001b[0;32m    881\u001b[0m   \u001b[38;5;28;01mif\u001b[39;00m tripb \u001b[38;5;129;01mor\u001b[39;00m \u001b[38;5;129;01mnot\u001b[39;00m (\u001b[38;5;28mabs\u001b[39m(v) \u001b[38;5;241m>\u001b[39m\u001b[38;5;241m=\u001b[39m (\u001b[38;5;241m8\u001b[39m \u001b[38;5;28;01mif\u001b[39;00m tripn \u001b[38;5;28;01melse\u001b[39;00m \u001b[38;5;241m1\u001b[39m) \u001b[38;5;241m*\u001b[39m Geodesic\u001b[38;5;241m.\u001b[39mtol0_):\n",
      "File \u001b[1;32m~\\AppData\\Roaming\\Python\\Python310\\site-packages\\geographiclib\\geodesic.py:690\u001b[0m, in \u001b[0;36mGeodesic._Lambda12\u001b[1;34m(self, sbet1, cbet1, dn1, sbet2, cbet2, dn2, salp1, calp1, slam120, clam120, diffp, C1a, C2a, C3a)\u001b[0m\n\u001b[0;32m    688\u001b[0m     dlam12 \u001b[38;5;241m=\u001b[39m \u001b[38;5;241m-\u001b[39m \u001b[38;5;241m2\u001b[39m \u001b[38;5;241m*\u001b[39m \u001b[38;5;28mself\u001b[39m\u001b[38;5;241m.\u001b[39m_f1 \u001b[38;5;241m*\u001b[39m dn1 \u001b[38;5;241m/\u001b[39m sbet1\n\u001b[0;32m    689\u001b[0m   \u001b[38;5;28;01melse\u001b[39;00m:\n\u001b[1;32m--> 690\u001b[0m     dummy, dlam12, dummy, dummy, dummy \u001b[38;5;241m=\u001b[39m \u001b[38;5;28;43mself\u001b[39;49m\u001b[38;5;241;43m.\u001b[39;49m\u001b[43m_Lengths\u001b[49m\u001b[43m(\u001b[49m\n\u001b[0;32m    691\u001b[0m \u001b[43m      \u001b[49m\u001b[43meps\u001b[49m\u001b[43m,\u001b[49m\u001b[43m \u001b[49m\u001b[43msig12\u001b[49m\u001b[43m,\u001b[49m\u001b[43m \u001b[49m\u001b[43mssig1\u001b[49m\u001b[43m,\u001b[49m\u001b[43m \u001b[49m\u001b[43mcsig1\u001b[49m\u001b[43m,\u001b[49m\u001b[43m \u001b[49m\u001b[43mdn1\u001b[49m\u001b[43m,\u001b[49m\u001b[43m \u001b[49m\u001b[43mssig2\u001b[49m\u001b[43m,\u001b[49m\u001b[43m \u001b[49m\u001b[43mcsig2\u001b[49m\u001b[43m,\u001b[49m\u001b[43m \u001b[49m\u001b[43mdn2\u001b[49m\u001b[43m,\u001b[49m\u001b[43m \u001b[49m\u001b[43mcbet1\u001b[49m\u001b[43m,\u001b[49m\u001b[43m \u001b[49m\u001b[43mcbet2\u001b[49m\u001b[43m,\u001b[49m\n\u001b[0;32m    692\u001b[0m \u001b[43m      \u001b[49m\u001b[43mGeodesic\u001b[49m\u001b[38;5;241;43m.\u001b[39;49m\u001b[43mREDUCEDLENGTH\u001b[49m\u001b[43m,\u001b[49m\u001b[43m \u001b[49m\u001b[43mC1a\u001b[49m\u001b[43m,\u001b[49m\u001b[43m \u001b[49m\u001b[43mC2a\u001b[49m\u001b[43m)\u001b[49m\n\u001b[0;32m    693\u001b[0m     dlam12 \u001b[38;5;241m*\u001b[39m\u001b[38;5;241m=\u001b[39m \u001b[38;5;28mself\u001b[39m\u001b[38;5;241m.\u001b[39m_f1 \u001b[38;5;241m/\u001b[39m (calp2 \u001b[38;5;241m*\u001b[39m cbet2)\n\u001b[0;32m    694\u001b[0m \u001b[38;5;28;01melse\u001b[39;00m:\n",
      "File \u001b[1;32m~\\AppData\\Roaming\\Python\\Python310\\site-packages\\geographiclib\\geodesic.py:447\u001b[0m, in \u001b[0;36mGeodesic._Lengths\u001b[1;34m(self, eps, sig12, ssig1, csig1, dn1, ssig2, csig2, dn2, cbet1, cbet2, outmask, C1a, C2a)\u001b[0m\n\u001b[0;32m    444\u001b[0m \u001b[38;5;28;01mif\u001b[39;00m outmask \u001b[38;5;241m&\u001b[39m (Geodesic\u001b[38;5;241m.\u001b[39mDISTANCE \u001b[38;5;241m|\u001b[39m Geodesic\u001b[38;5;241m.\u001b[39mREDUCEDLENGTH \u001b[38;5;241m|\u001b[39m\n\u001b[0;32m    445\u001b[0m               Geodesic\u001b[38;5;241m.\u001b[39mGEODESICSCALE):\n\u001b[0;32m    446\u001b[0m   A1 \u001b[38;5;241m=\u001b[39m Geodesic\u001b[38;5;241m.\u001b[39m_A1m1f(eps)\n\u001b[1;32m--> 447\u001b[0m   \u001b[43mGeodesic\u001b[49m\u001b[38;5;241;43m.\u001b[39;49m\u001b[43m_C1f\u001b[49m\u001b[43m(\u001b[49m\u001b[43meps\u001b[49m\u001b[43m,\u001b[49m\u001b[43m \u001b[49m\u001b[43mC1a\u001b[49m\u001b[43m)\u001b[49m\n\u001b[0;32m    448\u001b[0m   \u001b[38;5;28;01mif\u001b[39;00m outmask \u001b[38;5;241m&\u001b[39m (Geodesic\u001b[38;5;241m.\u001b[39mREDUCEDLENGTH \u001b[38;5;241m|\u001b[39m Geodesic\u001b[38;5;241m.\u001b[39mGEODESICSCALE):\n\u001b[0;32m    449\u001b[0m     A2 \u001b[38;5;241m=\u001b[39m Geodesic\u001b[38;5;241m.\u001b[39m_A2m1f(eps)\n",
      "File \u001b[1;32m~\\AppData\\Roaming\\Python\\Python310\\site-packages\\geographiclib\\geodesic.py:221\u001b[0m, in \u001b[0;36mGeodesic._C1f\u001b[1;34m(eps, c)\u001b[0m\n\u001b[0;32m    219\u001b[0m \u001b[38;5;28;01mfor\u001b[39;00m l \u001b[38;5;129;01min\u001b[39;00m \u001b[38;5;28mrange\u001b[39m(\u001b[38;5;241m1\u001b[39m, Geodesic\u001b[38;5;241m.\u001b[39mnC1_ \u001b[38;5;241m+\u001b[39m \u001b[38;5;241m1\u001b[39m): \u001b[38;5;66;03m# l is index of C1p[l]\u001b[39;00m\n\u001b[0;32m    220\u001b[0m   m \u001b[38;5;241m=\u001b[39m (Geodesic\u001b[38;5;241m.\u001b[39mnC1_ \u001b[38;5;241m-\u001b[39m l) \u001b[38;5;241m/\u001b[39m\u001b[38;5;241m/\u001b[39m \u001b[38;5;241m2\u001b[39m        \u001b[38;5;66;03m# order of polynomial in eps^2\u001b[39;00m\n\u001b[1;32m--> 221\u001b[0m   c[l] \u001b[38;5;241m=\u001b[39m d \u001b[38;5;241m*\u001b[39m \u001b[43mMath\u001b[49m\u001b[38;5;241;43m.\u001b[39;49m\u001b[43mpolyval\u001b[49m\u001b[43m(\u001b[49m\u001b[43mm\u001b[49m\u001b[43m,\u001b[49m\u001b[43m \u001b[49m\u001b[43mcoeff\u001b[49m\u001b[43m,\u001b[49m\u001b[43m \u001b[49m\u001b[43mo\u001b[49m\u001b[43m,\u001b[49m\u001b[43m \u001b[49m\u001b[43meps2\u001b[49m\u001b[43m)\u001b[49m \u001b[38;5;241m/\u001b[39m coeff[o \u001b[38;5;241m+\u001b[39m m \u001b[38;5;241m+\u001b[39m \u001b[38;5;241m1\u001b[39m]\n\u001b[0;32m    222\u001b[0m   o \u001b[38;5;241m+\u001b[39m\u001b[38;5;241m=\u001b[39m m \u001b[38;5;241m+\u001b[39m \u001b[38;5;241m2\u001b[39m\n\u001b[0;32m    223\u001b[0m   d \u001b[38;5;241m*\u001b[39m\u001b[38;5;241m=\u001b[39m eps\n",
      "File \u001b[1;32m~\\AppData\\Roaming\\Python\\Python310\\site-packages\\geographiclib\\geomath.py:67\u001b[0m, in \u001b[0;36mMath.polyval\u001b[1;34m(N, p, s, x)\u001b[0m\n\u001b[0;32m     63\u001b[0m \u001b[38;5;129m@staticmethod\u001b[39m\n\u001b[0;32m     64\u001b[0m \u001b[38;5;28;01mdef\u001b[39;00m \u001b[38;5;21mpolyval\u001b[39m(N, p, s, x):\n\u001b[0;32m     65\u001b[0m \u001b[38;5;250m  \u001b[39m\u001b[38;5;124;03m\"\"\"Evaluate a polynomial.\"\"\"\u001b[39;00m\n\u001b[1;32m---> 67\u001b[0m   y \u001b[38;5;241m=\u001b[39m \u001b[38;5;28mfloat\u001b[39m(\u001b[38;5;241m0\u001b[39m \u001b[38;5;28;01mif\u001b[39;00m \u001b[43mN\u001b[49m\u001b[43m \u001b[49m\u001b[38;5;241;43m<\u001b[39;49m\u001b[43m \u001b[49m\u001b[38;5;241;43m0\u001b[39;49m \u001b[38;5;28;01melse\u001b[39;00m p[s]) \u001b[38;5;66;03m# make sure the returned value is a float\u001b[39;00m\n\u001b[0;32m     68\u001b[0m   \u001b[38;5;28;01mwhile\u001b[39;00m N \u001b[38;5;241m>\u001b[39m \u001b[38;5;241m0\u001b[39m:\n\u001b[0;32m     69\u001b[0m     N \u001b[38;5;241m-\u001b[39m\u001b[38;5;241m=\u001b[39m \u001b[38;5;241m1\u001b[39m; s \u001b[38;5;241m+\u001b[39m\u001b[38;5;241m=\u001b[39m \u001b[38;5;241m1\u001b[39m\n",
      "\u001b[1;31mKeyboardInterrupt\u001b[0m: "
     ]
    }
   ],
   "source": [
    "# !pip install geopy\n",
    "# 這樣是直線距離\n",
    "from geopy.distance import geodesic\n",
    "import time\n",
    "qa10['Distance_km'] = None\n",
    "start = time.time()\n",
    "for i in range(len(qa10)):\n",
    "    coords_1 = (qa10.iloc[i]['On_Lat_Y'], qa10.iloc[i]['On_Lng_X'])\n",
    "    coords_2 = (qa10.iloc[i]['Off_Lat_Y'], qa10.iloc[i]['Off_Lng_X'])\n",
    "    distance = geodesic(coords_1, coords_2).kilometers\n",
    "    qa10.at[i, 'Distance_km'] = distance\n",
    "    if i%5000 == 0:\n",
    "        print(f\"第 {i+1} 列的距離為 {distance:.2f} 公里。\")\n",
    "end = time.time()\n",
    "print(f\"時間花費 {(end-start):.2f} 秒。\") #take about 15 mins to complete."
   ]
  },
  {
   "cell_type": "code",
   "execution_count": 44,
   "id": "d7275838-7b35-4028-809f-551b0787fddc",
   "metadata": {},
   "outputs": [
    {
     "name": "stdout",
     "output_type": "stream",
     "text": [
      "25.038412, 121.552914\n",
      "64號, 忠孝東路四段216巷, 車層里, 大安區, 車罾, 臺北市, 106, 臺灣\n",
      "{'place_id': 202134892, 'licence': 'Data © OpenStreetMap contributors, ODbL 1.0. http://osm.org/copyright', 'osm_type': 'node', 'osm_id': 10830297503, 'lat': '25.0383556', 'lon': '121.5528643', 'class': 'place', 'type': 'house', 'place_rank': 30, 'importance': 9.99999999995449e-06, 'addresstype': 'place', 'name': '', 'display_name': '64號, 忠孝東路四段216巷, 車層里, 大安區, 車罾, 臺北市, 106, 臺灣', 'boundingbox': ['25.0383056', '25.0384056', '121.5528143', '121.5529143']}\n",
      "24.83667, 121.233874\n",
      "374號, 民族路, 清水坑, 三林里, 龍潭區, 桃園市, 32546, 臺灣\n",
      "{'place_id': 199522813, 'licence': 'Data © OpenStreetMap contributors, ODbL 1.0. http://osm.org/copyright', 'osm_type': 'node', 'osm_id': 11190240467, 'lat': '24.8367176', 'lon': '121.2338452', 'class': 'place', 'type': 'house', 'place_rank': 30, 'importance': 9.99999999995449e-06, 'addresstype': 'place', 'name': '', 'display_name': '374號, 民族路, 清水坑, 三林里, 龍潭區, 桃園市, 32546, 臺灣', 'boundingbox': ['24.8366676', '24.8367676', '121.2337952', '121.2338952']}\n",
      "24.808074, 121.038155\n",
      "暐順百貨, 168, 復興三路二段, 麻園, 隘口里, 竹北市, 新竹縣, 30273, 臺灣\n",
      "{'place_id': 201323174, 'licence': 'Data © OpenStreetMap contributors, ODbL 1.0. http://osm.org/copyright', 'osm_type': 'way', 'osm_id': 607087698, 'lat': '24.8075645', 'lon': '121.03824092118973', 'class': 'shop', 'type': 'department_store', 'place_rank': 30, 'importance': 9.99999999995449e-06, 'addresstype': 'shop', 'name': '暐順百貨', 'display_name': '暐順百貨, 168, 復興三路二段, 麻園, 隘口里, 竹北市, 新竹縣, 30273, 臺灣', 'boundingbox': ['24.8071640', '24.8079406', '121.0376419', '121.0388278']}\n",
      "24.72235, 121.09117\n",
      "竹東幼兒園, 251, 和江街, 上公舘, 上舘里, 竹東鎮, 新竹縣, 31046, 臺灣\n",
      "{'place_id': 200581044, 'licence': 'Data © OpenStreetMap contributors, ODbL 1.0. http://osm.org/copyright', 'osm_type': 'way', 'osm_id': 322329380, 'lat': '24.72144735', 'lon': '121.09107490276834', 'class': 'amenity', 'type': 'kindergarten', 'place_rank': 30, 'importance': 9.99999999995449e-06, 'addresstype': 'amenity', 'name': '竹東幼兒園', 'display_name': '竹東幼兒園, 251, 和江街, 上公舘, 上舘里, 竹東鎮, 新竹縣, 31046, 臺灣', 'boundingbox': ['24.7205393', '24.7225526', '121.0899566', '121.0922396']}\n",
      "25.021099, 121.31482\n",
      "914號, 大有路, 汴洲里, 桃園區, 桃園市, 330, 臺灣\n",
      "{'place_id': 202740026, 'licence': 'Data © OpenStreetMap contributors, ODbL 1.0. http://osm.org/copyright', 'osm_type': 'node', 'osm_id': 11192916062, 'lat': '25.0211836', 'lon': '121.3148191', 'class': 'place', 'type': 'house', 'place_rank': 30, 'importance': 9.99999999995449e-06, 'addresstype': 'place', 'name': '', 'display_name': '914號, 大有路, 汴洲里, 桃園區, 桃園市, 330, 臺灣', 'boundingbox': ['25.0211336', '25.0212336', '121.3147691', '121.3148691']}\n",
      "25.002181, 121.203402\n",
      "兒十五兒童遊樂場, 民權路四段, 頭前埔, 芝芭里, 中壢區, 桃園市, 320014, 臺灣\n",
      "{'place_id': 203491670, 'licence': 'Data © OpenStreetMap contributors, ODbL 1.0. http://osm.org/copyright', 'osm_type': 'node', 'osm_id': 4892064922, 'lat': '25.002179', 'lon': '121.203364', 'class': 'emergency', 'type': 'assembly_point', 'place_rank': 30, 'importance': 9.99999999995449e-06, 'addresstype': 'emergency', 'name': '兒十五兒童遊樂場', 'display_name': '兒十五兒童遊樂場, 民權路四段, 頭前埔, 芝芭里, 中壢區, 桃園市, 320014, 臺灣', 'boundingbox': ['25.0021290', '25.0022290', '121.2033140', '121.2034140']}\n",
      "24.94951, 121.37574\n",
      "學府路, 龍學里, 三峽區, 北大特區, 新北市, 23853, 臺灣\n",
      "{'place_id': 202411826, 'licence': 'Data © OpenStreetMap contributors, ODbL 1.0. http://osm.org/copyright', 'osm_type': 'way', 'osm_id': 234412011, 'lat': '24.949507682593705', 'lon': '121.37574091242826', 'class': 'highway', 'type': 'tertiary', 'place_rank': 26, 'importance': 0.10000999999999993, 'addresstype': 'road', 'name': '學府路', 'display_name': '學府路, 龍學里, 三峽區, 北大特區, 新北市, 23853, 臺灣', 'boundingbox': ['24.9477185', '24.9511983', '121.3716256', '121.3834735']}\n",
      "24.960192, 121.339391\n",
      "西湖街, 中湖里, 鶯歌區, 鳳鳴, 新北市, 239, 臺灣\n",
      "{'place_id': 201712532, 'licence': 'Data © OpenStreetMap contributors, ODbL 1.0. http://osm.org/copyright', 'osm_type': 'way', 'osm_id': 283484110, 'lat': '24.960168653864326', 'lon': '121.33934697833506', 'class': 'highway', 'type': 'tertiary', 'place_rank': 26, 'importance': 0.10000999999999993, 'addresstype': 'road', 'name': '西湖街', 'display_name': '西湖街, 中湖里, 鶯歌區, 鳳鳴, 新北市, 239, 臺灣', 'boundingbox': ['24.9592942', '24.9725881', '121.3372351', '121.3398132']}\n",
      "24.954696, 121.354053\n",
      "仁愛路, 中鶯里, 鶯歌區, 新北市, 80284, 臺灣\n",
      "{'place_id': 202430241, 'licence': 'Data © OpenStreetMap contributors, ODbL 1.0. http://osm.org/copyright', 'osm_type': 'way', 'osm_id': 251591375, 'lat': '24.95470880416019', 'lon': '121.35407011295872', 'class': 'highway', 'type': 'residential', 'place_rank': 26, 'importance': 0.10000999999999993, 'addresstype': 'road', 'name': '仁愛路', 'display_name': '仁愛路, 中鶯里, 鶯歌區, 新北市, 80284, 臺灣', 'boundingbox': ['24.9546158', '24.9561931', '121.3540103', '121.3552744']}\n",
      "24.954954, 121.354653\n",
      "仁愛路, 中鶯里, 鶯歌區, 新北市, 80284, 臺灣\n",
      "{'place_id': 202510648, 'licence': 'Data © OpenStreetMap contributors, ODbL 1.0. http://osm.org/copyright', 'osm_type': 'way', 'osm_id': 98395038, 'lat': '24.954950418773628', 'lon': '121.35464769178628', 'class': 'highway', 'type': 'residential', 'place_rank': 26, 'importance': 0.10000999999999993, 'addresstype': 'road', 'name': '仁愛路', 'display_name': '仁愛路, 中鶯里, 鶯歌區, 新北市, 80284, 臺灣', 'boundingbox': ['24.9548312', '24.9551348', '121.3546417', '121.3549998']}\n"
     ]
    }
   ],
   "source": [
    "from geopy.geocoders import Nominatim\n",
    "geolocator = Nominatim(user_agent=\"geoapiExercises\")\n",
    "# 這邊我們放入經緯度使用 .reverse\n",
    "for i in range(10):\n",
    "    xy = str(qa10.iloc[i]['Off_Lat_Y'])+ \", \"+str(qa10.iloc[i]['Off_Lng_X'])\n",
    "    print(xy)\n",
    "    location = geolocator.geocode(xy)\n",
    "    print(location.address) #location 的地址\n",
    "    print(location.raw) # location 的完整地理編碼的結果\n",
    "\n",
    "# location = geolocator.geocode(\"台北101\")\n",
    "# print(location.address) #location 的地址\n",
    "# print((location.latitude, location.longitude)) # location 的緯度與經度\n",
    "# print(location.raw) # location 的完整地理編碼的結果\n"
   ]
  },
  {
   "cell_type": "code",
   "execution_count": 46,
   "id": "c92e4fc0-b239-46f5-88c7-aacead997198",
   "metadata": {},
   "outputs": [
    {
     "ename": "NameError",
     "evalue": "name 'gpd' is not defined",
     "output_type": "error",
     "traceback": [
      "\u001b[1;31m---------------------------------------------------------------------------\u001b[0m",
      "\u001b[1;31mNameError\u001b[0m                                 Traceback (most recent call last)",
      "Cell \u001b[1;32mIn[46], line 5\u001b[0m\n\u001b[0;32m      3\u001b[0m qa10s \u001b[38;5;241m=\u001b[39m qa10\u001b[38;5;241m.\u001b[39mhead(\u001b[38;5;241m50\u001b[39m)\n\u001b[0;32m      4\u001b[0m qa10s \u001b[38;5;241m=\u001b[39m qa10s\u001b[38;5;241m.\u001b[39mloc[\u001b[38;5;241m~\u001b[39mnp\u001b[38;5;241m.\u001b[39misnan(qa10s[\u001b[38;5;124m\"\u001b[39m\u001b[38;5;124mOff_Lat_Y\u001b[39m\u001b[38;5;124m\"\u001b[39m])]\n\u001b[1;32m----> 5\u001b[0m qa10s \u001b[38;5;241m=\u001b[39m \u001b[43mgpd\u001b[49m\u001b[38;5;241m.\u001b[39mGeoDataFrame(\n\u001b[0;32m      6\u001b[0m     qa10s, geometry\u001b[38;5;241m=\u001b[39mgpd\u001b[38;5;241m.\u001b[39mpoints_from_xy(qa10s\u001b[38;5;241m.\u001b[39mOff_Lng_X, qa10s\u001b[38;5;241m.\u001b[39mOff_Lat_Y))\n\u001b[0;32m      7\u001b[0m qa10s\u001b[38;5;241m.\u001b[39mcrs \u001b[38;5;241m=\u001b[39m \u001b[38;5;124m\"\u001b[39m\u001b[38;5;124mEPSG:4326\u001b[39m\u001b[38;5;124m\"\u001b[39m    \n\u001b[0;32m      8\u001b[0m qa10s \u001b[38;5;241m=\u001b[39m qa10s\u001b[38;5;241m.\u001b[39mto_crs(epsg\u001b[38;5;241m=\u001b[39m\u001b[38;5;241m4326\u001b[39m)\n",
      "\u001b[1;31mNameError\u001b[0m: name 'gpd' is not defined"
     ]
    }
   ],
   "source": [
    "# 測試geo資料及\n",
    "# https://medium.com/@fearless_fusion_snake_755/%E7%8E%A9%E7%8E%A9%E7%9C%8B%E5%9C%B0%E7%90%86%E7%A9%BA%E9%96%93%E8%B3%87%E6%96%99-3-%E5%9C%B0%E7%90%86%E7%A9%BA%E9%96%93%E8%B3%87%E6%96%99%E9%80%A3%E6%8E%A5%E8%88%87%E5%88%86%E7%B5%84%E6%93%8D%E4%BD%9C-7efa4a802b7c\n",
    "qa10s = qa10.head(50)\n",
    "qa10s = qa10s.loc[~np.isnan(qa10s[\"Off_Lat_Y\"])]\n",
    "qa10s = gpd.GeoDataFrame(\n",
    "    qa10s, geometry=gpd.points_from_xy(qa10s.Off_Lng_X, qa10s.Off_Lat_Y))\n",
    "qa10s.crs = \"EPSG:4326\"    \n",
    "qa10s = qa10s.to_crs(epsg=4326)\n",
    "qa10s.head()\n"
   ]
  },
  {
   "cell_type": "code",
   "execution_count": 30,
   "id": "ab64c0cc-1ddb-43c1-84ed-f6e1dcbe416d",
   "metadata": {
    "scrolled": true
   },
   "outputs": [
    {
     "data": {
      "text/html": [
       "<div>\n",
       "<style scoped>\n",
       "    .dataframe tbody tr th:only-of-type {\n",
       "        vertical-align: middle;\n",
       "    }\n",
       "\n",
       "    .dataframe tbody tr th {\n",
       "        vertical-align: top;\n",
       "    }\n",
       "\n",
       "    .dataframe thead th {\n",
       "        text-align: right;\n",
       "    }\n",
       "</style>\n",
       "<table border=\"1\" class=\"dataframe\">\n",
       "  <thead>\n",
       "    <tr style=\"text-align: right;\">\n",
       "      <th></th>\n",
       "      <th>JobID</th>\n",
       "      <th>SN</th>\n",
       "      <th>CustPhone</th>\n",
       "      <th>sex</th>\n",
       "      <th>JobTime</th>\n",
       "      <th>svcTime</th>\n",
       "      <th>EndTime</th>\n",
       "      <th>On_City_GIS</th>\n",
       "      <th>On_Dist_GIS</th>\n",
       "      <th>On_Road</th>\n",
       "      <th>Off_City_GIS</th>\n",
       "      <th>Off_Dist_GIS</th>\n",
       "      <th>On_Lng_X</th>\n",
       "      <th>On_Lat_Y</th>\n",
       "      <th>Off_Lng_X</th>\n",
       "      <th>Off_Lat_Y</th>\n",
       "      <th>APP_Member_Level</th>\n",
       "      <th>paytype</th>\n",
       "      <th>AgentDriver</th>\n",
       "      <th>Distance_km</th>\n",
       "    </tr>\n",
       "  </thead>\n",
       "  <tbody>\n",
       "    <tr>\n",
       "      <th>0</th>\n",
       "      <td>DAP2310090A636</td>\n",
       "      <td>1</td>\n",
       "      <td>08E5225390117ADAADC66A4A398EDBB6F510AEA7</td>\n",
       "      <td>女生</td>\n",
       "      <td>2023-10-09 13:27:48 UTC</td>\n",
       "      <td>2023-10-09 13:30:51</td>\n",
       "      <td>2023-10-09 13:58:51</td>\n",
       "      <td>新北市</td>\n",
       "      <td>深坑區</td>\n",
       "      <td>文化街</td>\n",
       "      <td>臺北市</td>\n",
       "      <td>大安區</td>\n",
       "      <td>121.619277</td>\n",
       "      <td>25.000112</td>\n",
       "      <td>121.552914</td>\n",
       "      <td>25.038412</td>\n",
       "      <td>2.銀熊</td>\n",
       "      <td>敬老愛心卡</td>\n",
       "      <td>False</td>\n",
       "      <td>0.58714</td>\n",
       "    </tr>\n",
       "    <tr>\n",
       "      <th>1</th>\n",
       "      <td>DAP2310090M960</td>\n",
       "      <td>1</td>\n",
       "      <td>F2D2FE956443AD4CFD28D92587D2873CCCC8952F</td>\n",
       "      <td>男生</td>\n",
       "      <td>2023-10-09 19:07:01 UTC</td>\n",
       "      <td>2023-10-09 19:13:03</td>\n",
       "      <td>2023-10-09 19:22:03</td>\n",
       "      <td>桃園市</td>\n",
       "      <td>龍潭區</td>\n",
       "      <td>中正路</td>\n",
       "      <td>桃園市</td>\n",
       "      <td>龍潭區</td>\n",
       "      <td>121.216663</td>\n",
       "      <td>24.866326</td>\n",
       "      <td>121.233874</td>\n",
       "      <td>24.836670</td>\n",
       "      <td>0.小熊</td>\n",
       "      <td>現金</td>\n",
       "      <td>False</td>\n",
       "      <td>0.58714</td>\n",
       "    </tr>\n",
       "    <tr>\n",
       "      <th>2</th>\n",
       "      <td>DAP2310090L299</td>\n",
       "      <td>1</td>\n",
       "      <td>B27BD63B948BA3CD7F17586CE4726D1EA940F0EB</td>\n",
       "      <td>未知</td>\n",
       "      <td>2023-10-09 18:40:42 UTC</td>\n",
       "      <td>2023-10-09 18:47:39</td>\n",
       "      <td>2023-10-09 19:11:20</td>\n",
       "      <td>新竹縣</td>\n",
       "      <td>湖口鄉</td>\n",
       "      <td>中華路</td>\n",
       "      <td>新竹縣</td>\n",
       "      <td>竹北市</td>\n",
       "      <td>121.007457</td>\n",
       "      <td>24.868518</td>\n",
       "      <td>121.038155</td>\n",
       "      <td>24.808074</td>\n",
       "      <td>3.金熊</td>\n",
       "      <td>現金</td>\n",
       "      <td>False</td>\n",
       "      <td>0.58714</td>\n",
       "    </tr>\n",
       "    <tr>\n",
       "      <th>3</th>\n",
       "      <td>DIP2310091F865</td>\n",
       "      <td>1</td>\n",
       "      <td>5D3621C692C3A2C56DD518C9EB60A0AE9C7C9C68</td>\n",
       "      <td>男生</td>\n",
       "      <td>2023-10-09 17:44:42 UTC</td>\n",
       "      <td>2023-10-09 17:54:11</td>\n",
       "      <td>2023-10-09 18:41:07</td>\n",
       "      <td>桃園市</td>\n",
       "      <td>大溪區</td>\n",
       "      <td>介壽路</td>\n",
       "      <td>新竹縣</td>\n",
       "      <td>竹東鎮</td>\n",
       "      <td>121.283089</td>\n",
       "      <td>24.900963</td>\n",
       "      <td>121.091170</td>\n",
       "      <td>24.722350</td>\n",
       "      <td>1.黑熊</td>\n",
       "      <td>現金</td>\n",
       "      <td>False</td>\n",
       "      <td>0.58714</td>\n",
       "    </tr>\n",
       "    <tr>\n",
       "      <th>4</th>\n",
       "      <td>DIP2310090I655</td>\n",
       "      <td>1</td>\n",
       "      <td>5C984280F79513D8C73DE3BE992A9D6CBBF260C0</td>\n",
       "      <td>女生</td>\n",
       "      <td>2023-10-09 10:32:26 UTC</td>\n",
       "      <td>2023-10-09 10:36:16</td>\n",
       "      <td>2023-10-09 10:58:19</td>\n",
       "      <td>新北市</td>\n",
       "      <td>鶯歌區</td>\n",
       "      <td>永和街</td>\n",
       "      <td>桃園市</td>\n",
       "      <td>桃園區</td>\n",
       "      <td>121.333468</td>\n",
       "      <td>24.969054</td>\n",
       "      <td>121.314820</td>\n",
       "      <td>25.021099</td>\n",
       "      <td>1.黑熊</td>\n",
       "      <td>現金</td>\n",
       "      <td>False</td>\n",
       "      <td>0.58714</td>\n",
       "    </tr>\n",
       "  </tbody>\n",
       "</table>\n",
       "</div>"
      ],
      "text/plain": [
       "            JobID  SN                                 CustPhone sex  \\\n",
       "0  DAP2310090A636   1  08E5225390117ADAADC66A4A398EDBB6F510AEA7  女生   \n",
       "1  DAP2310090M960   1  F2D2FE956443AD4CFD28D92587D2873CCCC8952F  男生   \n",
       "2  DAP2310090L299   1  B27BD63B948BA3CD7F17586CE4726D1EA940F0EB  未知   \n",
       "3  DIP2310091F865   1  5D3621C692C3A2C56DD518C9EB60A0AE9C7C9C68  男生   \n",
       "4  DIP2310090I655   1  5C984280F79513D8C73DE3BE992A9D6CBBF260C0  女生   \n",
       "\n",
       "                   JobTime              svcTime              EndTime  \\\n",
       "0  2023-10-09 13:27:48 UTC  2023-10-09 13:30:51  2023-10-09 13:58:51   \n",
       "1  2023-10-09 19:07:01 UTC  2023-10-09 19:13:03  2023-10-09 19:22:03   \n",
       "2  2023-10-09 18:40:42 UTC  2023-10-09 18:47:39  2023-10-09 19:11:20   \n",
       "3  2023-10-09 17:44:42 UTC  2023-10-09 17:54:11  2023-10-09 18:41:07   \n",
       "4  2023-10-09 10:32:26 UTC  2023-10-09 10:36:16  2023-10-09 10:58:19   \n",
       "\n",
       "  On_City_GIS On_Dist_GIS On_Road Off_City_GIS Off_Dist_GIS    On_Lng_X  \\\n",
       "0         新北市         深坑區     文化街          臺北市          大安區  121.619277   \n",
       "1         桃園市         龍潭區     中正路          桃園市          龍潭區  121.216663   \n",
       "2         新竹縣         湖口鄉     中華路          新竹縣          竹北市  121.007457   \n",
       "3         桃園市         大溪區     介壽路          新竹縣          竹東鎮  121.283089   \n",
       "4         新北市         鶯歌區     永和街          桃園市          桃園區  121.333468   \n",
       "\n",
       "    On_Lat_Y   Off_Lng_X  Off_Lat_Y APP_Member_Level paytype  AgentDriver  \\\n",
       "0  25.000112  121.552914  25.038412             2.銀熊   敬老愛心卡        False   \n",
       "1  24.866326  121.233874  24.836670             0.小熊      現金        False   \n",
       "2  24.868518  121.038155  24.808074             3.金熊      現金        False   \n",
       "3  24.900963  121.091170  24.722350             1.黑熊      現金        False   \n",
       "4  24.969054  121.314820  25.021099             1.黑熊      現金        False   \n",
       "\n",
       "   Distance_km  \n",
       "0      0.58714  \n",
       "1      0.58714  \n",
       "2      0.58714  \n",
       "3      0.58714  \n",
       "4      0.58714  "
      ]
     },
     "execution_count": 30,
     "metadata": {},
     "output_type": "execute_result"
    }
   ],
   "source": [
    "qa10.head()"
   ]
  },
  {
   "cell_type": "code",
   "execution_count": 4,
   "id": "ef3849a9-41a8-4b87-b3a7-9978dcf20230",
   "metadata": {},
   "outputs": [
    {
     "name": "stdout",
     "output_type": "stream",
     "text": [
      "(1858257, 19)\n",
      "(1934120, 19)\n",
      "(1849326, 19)\n"
     ]
    }
   ],
   "source": [
    "qa11 = pd.read_csv(\"./QA_TGDS_JOB_23_11.csv\")\n",
    "qa12 = pd.read_csv(\"./QA_TGDS_JOB_23_12.csv\")\n",
    "qa01 = pd.read_csv(\"./QA_TGDS_JOB_24_01.csv\")\n",
    "print(qa11.shape)\n",
    "print(qa12.shape)\n",
    "print(qa01.shape)\n",
    "# (1858257, 19)\n",
    "# (1934120, 19)\n",
    "# (1849326, 19)"
   ]
  },
  {
   "cell_type": "code",
   "execution_count": 8,
   "id": "c8118ff6-4396-4365-877b-1c353a54ddc2",
   "metadata": {},
   "outputs": [],
   "source": [
    "combined_df = pd.concat([qa10, qa11, qa12, qa01])"
   ]
  },
  {
   "cell_type": "code",
   "execution_count": 5,
   "id": "4c7f7dfb-3338-48c1-af20-c745b9b2b88f",
   "metadata": {},
   "outputs": [
    {
     "ename": "SyntaxError",
     "evalue": "expected ':' (4045097335.py, line 1)",
     "output_type": "error",
     "traceback": [
      "\u001b[1;36m  Cell \u001b[1;32mIn[5], line 1\u001b[1;36m\u001b[0m\n\u001b[1;33m    for item in [qa11,qa12,qa01]\u001b[0m\n\u001b[1;37m                                ^\u001b[0m\n\u001b[1;31mSyntaxError\u001b[0m\u001b[1;31m:\u001b[0m expected ':'\n"
     ]
    }
   ],
   "source": [
    "qa10['APP_Member_Level'] = qa10['APP_Member_Level'].replace({\n",
    "    '3.金熊': 3,\n",
    "    '1.黑熊': 1,\n",
    "    '2.銀熊': 2,\n",
    "    '4.鑽石熊': 4,\n",
    "    '0.小熊': 0\n",
    "})\n",
    "\n",
    "qa10['sex'] = qa10['sex'].replace({\n",
    "    '男生': 0,\n",
    "    '女生': 1,\n",
    "    '未知': 2,\n",
    "})\n",
    "\n",
    "qa10['AgentDriver'] = qa10['AgentDriver'].replace({\n",
    "    False: 0,\n",
    "    True: 1,\n",
    "})\n",
    "\n",
    "qa10['JobTime'] = pd.to_datetime(qa10['JobTime'], format='%Y-%m-%d %H:%M:%S %Z')\n",
    "qa10['svcTime'] = pd.to_datetime(qa10['svcTime'], format='%Y-%m-%d %H:%M:%S')\n",
    "qa10['EndTime'] = pd.to_datetime(qa10['EndTime'], format='%Y-%m-%d %H:%M:%S')"
   ]
  },
  {
   "cell_type": "code",
   "execution_count": 4,
   "id": "04f35ea7-a63c-4901-9b2c-3655bfce2e49",
   "metadata": {},
   "outputs": [
    {
     "data": {
      "text/plain": [
       "APP_Member_Level\n",
       "0     69170\n",
       "1    401360\n",
       "2    365446\n",
       "3    877395\n",
       "4    167959\n",
       "Name: count, dtype: int64"
      ]
     },
     "execution_count": 4,
     "metadata": {},
     "output_type": "execute_result"
    }
   ],
   "source": [
    "level = qa10['APP_Member_Level'].value_counts()\n",
    "level = level.reindex([0, 1, 2, 3, 4])\n",
    "level"
   ]
  },
  {
   "cell_type": "code",
   "execution_count": 5,
   "id": "7efa0824-8d34-4547-8996-afe59b187f64",
   "metadata": {
    "scrolled": true
   },
   "outputs": [
    {
     "data": {
      "image/png": "[encoded data removed]",
      "text/plain": [
       "<Figure size 640x480 with 1 Axes>"
      ]
     },
     "metadata": {},
     "output_type": "display_data"
    }
   ],
   "source": [
    "# 繪製長條圖\n",
    "level.plot(kind='bar')\n",
    "plt.title('levels')\n",
    "plt.xlabel('level')\n",
    "plt.ylabel('people')\n",
    "plt.show()"
   ]
  },
  {
   "cell_type": "code",
   "execution_count": 6,
   "id": "5e13505a-8a2d-4524-acca-21194ed8f3b9",
   "metadata": {},
   "outputs": [
    {
     "data": {
      "text/plain": [
       "paytype\n",
       "現金             796384\n",
       "綁定-綁定信用卡       427612\n",
       "企業簽單           166644\n",
       "綁定-LINEPAY     165331\n",
       "綁定-永豐聯名卡        75751\n",
       "敬老愛心卡           71233\n",
       "T Points        53098\n",
       "悠遊卡             26465\n",
       "搭車金             18575\n",
       "實體信用卡           13741\n",
       "LINE Pay        11788\n",
       "街口              11423\n",
       "HappyGo          9948\n",
       "Pi行動錢包           9339\n",
       "ApplePay         8813\n",
       "台北好孕券            4688\n",
       "綁定-悠遊付           4657\n",
       "新北好孕券            3827\n",
       "中信紅利折抵           1018\n",
       "綁定-銀聯             601\n",
       "台灣pay             513\n",
       "PXPay             107\n",
       "銀聯                 65\n",
       "愛金卡                64\n",
       "歐付寶                62\n",
       "全盈+PAY             52\n",
       "橘子支付               45\n",
       "玉山wallet           36\n",
       "支付寶                25\n",
       "WeChat             22\n",
       "台新-卡得利             19\n",
       "PGTalk             19\n",
       "ApplePay_銀聯        10\n",
       "Name: count, dtype: int64"
      ]
     },
     "execution_count": 6,
     "metadata": {},
     "output_type": "execute_result"
    }
   ],
   "source": [
    "# qa10['paytype'] = qa10['paytype'].replace(['綁定-綁定信用卡', '綁定-LINEPAY', '綁定-永豐聯名卡'], '綁定')\n",
    "paytype = qa10['paytype'].value_counts()\n",
    "paytype"
   ]
  },
  {
   "cell_type": "code",
   "execution_count": 7,
   "id": "92f302f3-6000-4d3a-95b9-eaf7108b1b85",
   "metadata": {},
   "outputs": [
    {
     "data": {
      "image/png": "[encoded data removed]",
      "text/plain": [
       "<Figure size 640x480 with 1 Axes>"
      ]
     },
     "metadata": {},
     "output_type": "display_data"
    }
   ],
   "source": [
    "paytype.plot(kind='bar')\n",
    "plt.title('各方法使用人數', fontproperties=font)\n",
    "plt.xlabel('方式', fontproperties=font)\n",
    "plt.ylabel('人數', fontproperties=font)\n",
    "plt.xticks(range(len(paytype.index)), paytype.index, fontproperties=font)\n",
    "plt.show()"
   ]
  },
  {
   "cell_type": "code",
   "execution_count": 9,
   "id": "807c6aa4-c948-4fbe-8fbd-c66392beb99d",
   "metadata": {},
   "outputs": [
    {
     "name": "stdout",
     "output_type": "stream",
     "text": [
      "                                          PhoneCount\n",
      "CustPhone                                           \n",
      "7CD844171A7FC97B14DD74E161F01EFC0384A6E2        1890\n",
      "8BEAC77E7710DDA077E0B0BC9E16DA4072560E3F        1357\n",
      "95D8DC6EE80359ED4FF28BE466568FB6841189F7        1022\n",
      "6DED6BD38D02FB30BFDF83A26F45D3403D2C747D         876\n",
      "58BB3B11CD8F3CF17583B7D09E44BFA187256A6D         792\n",
      "...                                              ...\n",
      "A24D31389AD4CABF1B0FC79DD86B74100FCDFB62           1\n",
      "6D8E1703EC015B39A9D6BE03E99A8465C3F3F0D1           1\n",
      "1B9E98DECB0811446CEE5D31169E4F229F118F7F           1\n",
      "A24C4CE9D6A9305540B48476DAE7CE90C186966D           1\n",
      "DC287AB8FEE2B47732C23A7C4ABDCC8540E36616           1\n",
      "\n",
      "[676096 rows x 1 columns]\n"
     ]
    }
   ],
   "source": [
    "phone_counts = combined_df.groupby('CustPhone').size()\n",
    "phone_counts_df = pd.DataFrame(phone_counts, columns=['PhoneCount'])\n",
    "phone_counts_df = phone_counts_df.sort_values(by='PhoneCount', ascending=False)\n",
    "print(phone_counts_df)"
   ]
  },
  {
   "cell_type": "code",
   "execution_count": 13,
   "id": "11bd433f-b100-4beb-b923-b9e4a1aac018",
   "metadata": {},
   "outputs": [
    {
     "name": "stdout",
     "output_type": "stream",
     "text": [
      "Percentage：0.48%\n"
     ]
    }
   ],
   "source": [
    "driver_count = qa10['AgentDriver'].value_counts().get(1, 0)\n",
    "total_count = len(qa10)\n",
    "percentage = (driver_count / total_count) * 100\n",
    "print(f'Percentage：{percentage:.2f}%')"
   ]
  },
  {
   "cell_type": "code",
   "execution_count": 18,
   "id": "ae713d75-7174-4172-9b95-d42e4f1962ac",
   "metadata": {},
   "outputs": [],
   "source": [
    "service = pd.read_csv(\"./services.csv\")\n",
    "washing_money = pd.read_csv(\"./washing_money.csv\")\n",
    "tw_life = pd.read_csv(\"./tw_life.csv\")"
   ]
  },
  {
   "cell_type": "code",
   "execution_count": 21,
   "id": "a0b006af-c826-45eb-8e6c-63d5af86ddc1",
   "metadata": {},
   "outputs": [
    {
     "name": "stdout",
     "output_type": "stream",
     "text": [
      "重複的手機號碼數量：3524\n",
      "出現在乘車表但沒有出現在大洗衣的手機號碼數量：672572\n",
      "出現在大洗衣但沒有出現在乘車表的手機號碼數量：16039\n"
     ]
    }
   ],
   "source": [
    "# 找出兩張表中重複的手機號碼數量\n",
    "intersection_count = len(set(combined_df['CustPhone']).intersection(service['客戶手機號碼']))\n",
    "\n",
    "# 找出出現在A表但沒有出現在B表的手機號碼數量\n",
    "left_only_count = len(set(combined_df['CustPhone']) - set(service['客戶手機號碼']))\n",
    "\n",
    "# 找出出現在B表但沒有出現在A表的手機號碼數量\n",
    "right_only_count = len(set(service['客戶手機號碼']) - set(combined_df['CustPhone']))\n",
    "\n",
    "print(f\"重複的手機號碼數量：{intersection_count}\")\n",
    "print(f\"出現在乘車表但沒有出現在大洗衣的手機號碼數量：{left_only_count}\")\n",
    "print(f\"出現在大洗衣但沒有出現在乘車表的手機號碼數量：{right_only_count}\")"
   ]
  },
  {
   "cell_type": "code",
   "execution_count": 22,
   "id": "3c0612de-b8cd-48b9-8a16-806a03ac7c6e",
   "metadata": {},
   "outputs": [
    {
     "name": "stdout",
     "output_type": "stream",
     "text": [
      "重複的手機號碼數量：3542\n",
      "出現在乘車表但沒有出現在大洗衣2的手機號碼數量：672554\n",
      "出現在大洗衣2但沒有出現在乘車表的手機號碼數量：16140\n"
     ]
    }
   ],
   "source": [
    "# 找出兩張表中重複的手機號碼數量\n",
    "intersection_count = len(set(combined_df['CustPhone']).intersection(washing_money['客戶手機號碼']))\n",
    "\n",
    "# 找出出現在A表但沒有出現在B表的手機號碼數量\n",
    "left_only_count = len(set(combined_df['CustPhone']) - set(washing_money['客戶手機號碼']))\n",
    "\n",
    "# 找出出現在B表但沒有出現在A表的手機號碼數量\n",
    "right_only_count = len(set(washing_money['客戶手機號碼']) - set(combined_df['CustPhone']))\n",
    "\n",
    "print(f\"重複的手機號碼數量：{intersection_count}\")\n",
    "print(f\"出現在乘車表但沒有出現在大洗衣2的手機號碼數量：{left_only_count}\")\n",
    "print(f\"出現在大洗衣2但沒有出現在乘車表的手機號碼數量：{right_only_count}\")"
   ]
  },
  {
   "cell_type": "code",
   "execution_count": 23,
   "id": "9649b9f2-b326-4452-a7dc-8d2a9707786e",
   "metadata": {},
   "outputs": [
    {
     "name": "stdout",
     "output_type": "stream",
     "text": [
      "重複的手機號碼數量：2663\n",
      "出現在乘車表但沒有出現在大管家的手機號碼數量：673433\n",
      "出現在大管家但沒有出現在乘車表的手機號碼數量：3735\n"
     ]
    }
   ],
   "source": [
    "# 找出兩張表中重複的手機號碼數量\n",
    "intersection_count = len(set(combined_df['CustPhone']).intersection(tw_life['客戶手機號碼']))\n",
    "\n",
    "# 找出出現在A表但沒有出現在B表的手機號碼數量\n",
    "left_only_count = len(set(combined_df['CustPhone']) - set(tw_life['客戶手機號碼']))\n",
    "\n",
    "# 找出出現在B表但沒有出現在A表的手機號碼數量\n",
    "right_only_count = len(set(tw_life['客戶手機號碼']) - set(combined_df['CustPhone']))\n",
    "\n",
    "print(f\"重複的手機號碼數量：{intersection_count}\")\n",
    "print(f\"出現在乘車表但沒有出現在大管家的手機號碼數量：{left_only_count}\")\n",
    "print(f\"出現在大管家但沒有出現在乘車表的手機號碼數量：{right_only_count}\")"
   ]
  },
  {
   "cell_type": "code",
   "execution_count": null,
   "id": "10a55878-c281-440f-8fcb-0d72c87792a8",
   "metadata": {},
   "outputs": [],
   "source": []
  }
 ],
 "metadata": {
  "kernelspec": {
   "display_name": "Python 3 (ipykernel)",
   "language": "python",
   "name": "python3"
  },
  "language_info": {
   "codemirror_mode": {
    "name": "ipython",
    "version": 3
   },
   "file_extension": ".py",
   "mimetype": "text/x-python",
   "name": "python",
   "nbconvert_exporter": "python",
   "pygments_lexer": "ipython3",
   "version": "3.10.13"
  }
 },
 "nbformat": 4,
 "nbformat_minor": 5
}
